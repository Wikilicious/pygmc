{
 "cells": [
  {
   "cell_type": "code",
   "execution_count": 1,
   "id": "f35da26d-acee-469b-8b1a-ab7831d2bf35",
   "metadata": {
    "execution": {
     "iopub.execute_input": "2023-12-01T02:01:14.768990Z",
     "iopub.status.busy": "2023-12-01T02:01:14.768572Z",
     "iopub.status.idle": "2023-12-01T02:01:15.308690Z",
     "shell.execute_reply": "2023-12-01T02:01:15.306652Z",
     "shell.execute_reply.started": "2023-12-01T02:01:14.768945Z"
    }
   },
   "outputs": [],
   "source": [
    "import pandas as pd  # not needed to install PYGMC\n",
    "\n",
    "import pygmc"
   ]
  },
  {
   "cell_type": "code",
   "execution_count": 2,
   "id": "78d74a8b-7e47-4e66-ba2c-fb57e44fe623",
   "metadata": {
    "execution": {
     "iopub.execute_input": "2023-12-01T02:01:22.259071Z",
     "iopub.status.busy": "2023-12-01T02:01:22.258475Z",
     "iopub.status.idle": "2023-12-01T02:01:24.044489Z",
     "shell.execute_reply": "2023-12-01T02:01:24.042245Z",
     "shell.execute_reply.started": "2023-12-01T02:01:22.259024Z"
    }
   },
   "outputs": [
    {
     "name": "stdout",
     "output_type": "stream",
     "text": [
      "Connected device=GMC-300SRe 1.1\n"
     ]
    }
   ],
   "source": [
    "gc = pygmc.connect()"
   ]
  },
  {
   "cell_type": "code",
   "execution_count": 3,
   "id": "7d90fd37-c163-46cd-b014-688bf7d55d02",
   "metadata": {
    "execution": {
     "iopub.execute_input": "2023-12-01T02:01:39.465872Z",
     "iopub.status.busy": "2023-12-01T02:01:39.465336Z",
     "iopub.status.idle": "2023-12-01T02:01:39.769628Z",
     "shell.execute_reply": "2023-12-01T02:01:39.767529Z",
     "shell.execute_reply.started": "2023-12-01T02:01:39.465824Z"
    }
   },
   "outputs": [
    {
     "data": {
      "text/plain": [
       "'GMC-300SRe 1.1'"
      ]
     },
     "execution_count": 3,
     "metadata": {},
     "output_type": "execute_result"
    }
   ],
   "source": [
    "gc.get_version()"
   ]
  },
  {
   "cell_type": "code",
   "execution_count": 4,
   "id": "856965ec-ef32-49d8-8cd3-e7936fda03bc",
   "metadata": {
    "execution": {
     "iopub.execute_input": "2023-12-01T02:01:44.575532Z",
     "iopub.status.busy": "2023-12-01T02:01:44.574921Z",
     "iopub.status.idle": "2023-12-01T02:01:45.100963Z",
     "shell.execute_reply": "2023-12-01T02:01:45.098783Z",
     "shell.execute_reply.started": "2023-12-01T02:01:44.575486Z"
    }
   },
   "outputs": [
    {
     "data": {
      "text/plain": [
       "22"
      ]
     },
     "execution_count": 4,
     "metadata": {},
     "output_type": "execute_result"
    }
   ],
   "source": [
    "gc.get_cpm()"
   ]
  },
  {
   "cell_type": "code",
   "execution_count": 5,
   "id": "43497d87-bf75-4b1e-9009-b9d3ba31af73",
   "metadata": {
    "execution": {
     "iopub.execute_input": "2023-12-01T02:01:47.589523Z",
     "iopub.status.busy": "2023-12-01T02:01:47.588005Z",
     "iopub.status.idle": "2023-12-01T02:01:47.812639Z",
     "shell.execute_reply": "2023-12-01T02:01:47.810984Z",
     "shell.execute_reply.started": "2023-12-01T02:01:47.589476Z"
    }
   },
   "outputs": [
    {
     "data": {
      "text/plain": [
       "datetime.datetime(2023, 11, 30, 18, 4, 12)"
      ]
     },
     "execution_count": 5,
     "metadata": {},
     "output_type": "execute_result"
    }
   ],
   "source": [
    "gc.get_datetime()"
   ]
  },
  {
   "cell_type": "code",
   "execution_count": 6,
   "id": "40ed3b31-f52f-4430-9c35-7b8eb4d69afb",
   "metadata": {
    "execution": {
     "iopub.execute_input": "2023-12-01T02:01:59.301826Z",
     "iopub.status.busy": "2023-12-01T02:01:59.301314Z",
     "iopub.status.idle": "2023-12-01T02:01:59.568702Z",
     "shell.execute_reply": "2023-12-01T02:01:59.566507Z",
     "shell.execute_reply.started": "2023-12-01T02:01:59.301781Z"
    }
   },
   "outputs": [
    {
     "data": {
      "text/plain": [
       "(-16224, -416, 1504)"
      ]
     },
     "execution_count": 6,
     "metadata": {},
     "output_type": "execute_result"
    }
   ],
   "source": [
    "gc.get_gyro()"
   ]
  },
  {
   "cell_type": "code",
   "execution_count": 7,
   "id": "283e3f5e-0a92-4bfc-8e6d-89c4d5672338",
   "metadata": {
    "execution": {
     "iopub.execute_input": "2023-12-01T02:02:00.277145Z",
     "iopub.status.busy": "2023-12-01T02:02:00.276634Z",
     "iopub.status.idle": "2023-12-01T02:02:00.296690Z",
     "shell.execute_reply": "2023-12-01T02:02:00.294792Z",
     "shell.execute_reply.started": "2023-12-01T02:02:00.277097Z"
    }
   },
   "outputs": [
    {
     "data": {
      "text/plain": [
       "'f7f4c578139d08'"
      ]
     },
     "execution_count": 7,
     "metadata": {},
     "output_type": "execute_result"
    }
   ],
   "source": [
    "gc.get_serial()"
   ]
  },
  {
   "cell_type": "code",
   "execution_count": 8,
   "id": "1d58c392-bf80-4d2b-8ff8-fd97065eec04",
   "metadata": {
    "execution": {
     "iopub.execute_input": "2023-12-01T02:02:01.626246Z",
     "iopub.status.busy": "2023-12-01T02:02:01.625707Z",
     "iopub.status.idle": "2023-12-01T02:02:01.825402Z",
     "shell.execute_reply": "2023-12-01T02:02:01.823449Z",
     "shell.execute_reply.started": "2023-12-01T02:02:01.626197Z"
    }
   },
   "outputs": [
    {
     "data": {
      "text/plain": [
       "0.17337461300309598"
      ]
     },
     "execution_count": 8,
     "metadata": {},
     "output_type": "execute_result"
    }
   ],
   "source": [
    "gc.get_usv_h()"
   ]
  },
  {
   "cell_type": "code",
   "execution_count": 9,
   "id": "db0086b1-9684-4695-83d8-8433145365ac",
   "metadata": {
    "execution": {
     "iopub.execute_input": "2023-12-01T02:02:03.321924Z",
     "iopub.status.busy": "2023-12-01T02:02:03.320137Z",
     "iopub.status.idle": "2023-12-01T02:02:03.346908Z",
     "shell.execute_reply": "2023-12-01T02:02:03.345079Z",
     "shell.execute_reply.started": "2023-12-01T02:02:03.321875Z"
    }
   },
   "outputs": [
    {
     "data": {
      "text/plain": [
       "4.2"
      ]
     },
     "execution_count": 9,
     "metadata": {},
     "output_type": "execute_result"
    }
   ],
   "source": [
    "gc.get_voltage()"
   ]
  },
  {
   "cell_type": "code",
   "execution_count": 11,
   "id": "412e9c1b-a03d-4ba0-b9bd-712d5c5b3fd6",
   "metadata": {
    "execution": {
     "iopub.execute_input": "2023-12-01T02:02:23.984806Z",
     "iopub.status.busy": "2023-12-01T02:02:23.984251Z",
     "iopub.status.idle": "2023-12-01T02:02:30.438615Z",
     "shell.execute_reply": "2023-12-01T02:02:30.437010Z",
     "shell.execute_reply.started": "2023-12-01T02:02:23.984758Z"
    }
   },
   "outputs": [
    {
     "name": "stdout",
     "output_type": "stream",
     "text": [
      "21032\n"
     ]
    },
    {
     "data": {
      "text/plain": [
       "[['datetime', 'count', 'unit', 'mode', 'reference_datetime', 'notes'],\n",
       " (datetime.datetime(2023, 11, 30, 12, 16, 5),\n",
       "  0,\n",
       "  'CPS',\n",
       "  'every second',\n",
       "  datetime.datetime(2023, 11, 30, 12, 16, 4),\n",
       "  None),\n",
       " (datetime.datetime(2023, 11, 30, 12, 16, 6),\n",
       "  0,\n",
       "  'CPS',\n",
       "  'every second',\n",
       "  datetime.datetime(2023, 11, 30, 12, 16, 4),\n",
       "  None)]"
      ]
     },
     "execution_count": 11,
     "metadata": {},
     "output_type": "execute_result"
    }
   ],
   "source": [
    "history = gc.get_history_data()\n",
    "\n",
    "print(len(history))\n",
    "history[0:3]"
   ]
  },
  {
   "cell_type": "code",
   "execution_count": 12,
   "id": "dd71c1be-d8ef-479d-b9ba-538abe1c16a9",
   "metadata": {
    "execution": {
     "iopub.execute_input": "2023-12-01T02:02:35.231241Z",
     "iopub.status.busy": "2023-12-01T02:02:35.230468Z",
     "iopub.status.idle": "2023-12-01T02:02:35.292789Z",
     "shell.execute_reply": "2023-12-01T02:02:35.290869Z",
     "shell.execute_reply.started": "2023-12-01T02:02:35.231193Z"
    }
   },
   "outputs": [
    {
     "data": {
      "text/html": [
       "<div>\n",
       "<style scoped>\n",
       "    .dataframe tbody tr th:only-of-type {\n",
       "        vertical-align: middle;\n",
       "    }\n",
       "\n",
       "    .dataframe tbody tr th {\n",
       "        vertical-align: top;\n",
       "    }\n",
       "\n",
       "    .dataframe thead th {\n",
       "        text-align: right;\n",
       "    }\n",
       "</style>\n",
       "<table border=\"1\" class=\"dataframe\">\n",
       "  <thead>\n",
       "    <tr style=\"text-align: right;\">\n",
       "      <th></th>\n",
       "      <th>datetime</th>\n",
       "      <th>count</th>\n",
       "      <th>unit</th>\n",
       "      <th>mode</th>\n",
       "      <th>reference_datetime</th>\n",
       "      <th>notes</th>\n",
       "    </tr>\n",
       "  </thead>\n",
       "  <tbody>\n",
       "    <tr>\n",
       "      <th>0</th>\n",
       "      <td>2023-11-30 12:16:05</td>\n",
       "      <td>0</td>\n",
       "      <td>CPS</td>\n",
       "      <td>every second</td>\n",
       "      <td>2023-11-30 12:16:04</td>\n",
       "      <td>None</td>\n",
       "    </tr>\n",
       "    <tr>\n",
       "      <th>1</th>\n",
       "      <td>2023-11-30 12:16:06</td>\n",
       "      <td>0</td>\n",
       "      <td>CPS</td>\n",
       "      <td>every second</td>\n",
       "      <td>2023-11-30 12:16:04</td>\n",
       "      <td>None</td>\n",
       "    </tr>\n",
       "    <tr>\n",
       "      <th>2</th>\n",
       "      <td>2023-11-30 12:16:07</td>\n",
       "      <td>1</td>\n",
       "      <td>CPS</td>\n",
       "      <td>every second</td>\n",
       "      <td>2023-11-30 12:16:04</td>\n",
       "      <td>None</td>\n",
       "    </tr>\n",
       "    <tr>\n",
       "      <th>3</th>\n",
       "      <td>2023-11-30 12:16:08</td>\n",
       "      <td>0</td>\n",
       "      <td>CPS</td>\n",
       "      <td>every second</td>\n",
       "      <td>2023-11-30 12:16:04</td>\n",
       "      <td>None</td>\n",
       "    </tr>\n",
       "    <tr>\n",
       "      <th>4</th>\n",
       "      <td>2023-11-30 12:16:09</td>\n",
       "      <td>0</td>\n",
       "      <td>CPS</td>\n",
       "      <td>every second</td>\n",
       "      <td>2023-11-30 12:16:04</td>\n",
       "      <td>None</td>\n",
       "    </tr>\n",
       "    <tr>\n",
       "      <th>5</th>\n",
       "      <td>2023-11-30 12:16:10</td>\n",
       "      <td>1</td>\n",
       "      <td>CPS</td>\n",
       "      <td>every second</td>\n",
       "      <td>2023-11-30 12:16:04</td>\n",
       "      <td>None</td>\n",
       "    </tr>\n",
       "    <tr>\n",
       "      <th>6</th>\n",
       "      <td>2023-11-30 12:16:11</td>\n",
       "      <td>1</td>\n",
       "      <td>CPS</td>\n",
       "      <td>every second</td>\n",
       "      <td>2023-11-30 12:16:04</td>\n",
       "      <td>None</td>\n",
       "    </tr>\n",
       "    <tr>\n",
       "      <th>7</th>\n",
       "      <td>2023-11-30 12:16:12</td>\n",
       "      <td>0</td>\n",
       "      <td>CPS</td>\n",
       "      <td>every second</td>\n",
       "      <td>2023-11-30 12:16:04</td>\n",
       "      <td>None</td>\n",
       "    </tr>\n",
       "    <tr>\n",
       "      <th>8</th>\n",
       "      <td>2023-11-30 12:16:13</td>\n",
       "      <td>0</td>\n",
       "      <td>CPS</td>\n",
       "      <td>every second</td>\n",
       "      <td>2023-11-30 12:16:04</td>\n",
       "      <td>None</td>\n",
       "    </tr>\n",
       "    <tr>\n",
       "      <th>9</th>\n",
       "      <td>2023-11-30 12:16:14</td>\n",
       "      <td>0</td>\n",
       "      <td>CPS</td>\n",
       "      <td>every second</td>\n",
       "      <td>2023-11-30 12:16:04</td>\n",
       "      <td>None</td>\n",
       "    </tr>\n",
       "  </tbody>\n",
       "</table>\n",
       "</div>"
      ],
      "text/plain": [
       "             datetime  count unit          mode  reference_datetime notes\n",
       "0 2023-11-30 12:16:05      0  CPS  every second 2023-11-30 12:16:04  None\n",
       "1 2023-11-30 12:16:06      0  CPS  every second 2023-11-30 12:16:04  None\n",
       "2 2023-11-30 12:16:07      1  CPS  every second 2023-11-30 12:16:04  None\n",
       "3 2023-11-30 12:16:08      0  CPS  every second 2023-11-30 12:16:04  None\n",
       "4 2023-11-30 12:16:09      0  CPS  every second 2023-11-30 12:16:04  None\n",
       "5 2023-11-30 12:16:10      1  CPS  every second 2023-11-30 12:16:04  None\n",
       "6 2023-11-30 12:16:11      1  CPS  every second 2023-11-30 12:16:04  None\n",
       "7 2023-11-30 12:16:12      0  CPS  every second 2023-11-30 12:16:04  None\n",
       "8 2023-11-30 12:16:13      0  CPS  every second 2023-11-30 12:16:04  None\n",
       "9 2023-11-30 12:16:14      0  CPS  every second 2023-11-30 12:16:04  None"
      ]
     },
     "execution_count": 12,
     "metadata": {},
     "output_type": "execute_result"
    }
   ],
   "source": [
    "df = pd.DataFrame(history[1:], columns=history[0])\n",
    "df.head(10)"
   ]
  },
  {
   "cell_type": "code",
   "execution_count": 13,
   "id": "90be7445-6ab5-4898-b6b9-638680041d8d",
   "metadata": {
    "execution": {
     "iopub.execute_input": "2023-12-01T02:10:30.387364Z",
     "iopub.status.busy": "2023-12-01T02:10:30.386571Z",
     "iopub.status.idle": "2023-12-01T02:10:31.103397Z",
     "shell.execute_reply": "2023-12-01T02:10:31.101482Z",
     "shell.execute_reply.started": "2023-12-01T02:10:30.387313Z"
    }
   },
   "outputs": [
    {
     "data": {
      "text/plain": [
       "{'Power': 0,\n",
       " 'Alarm': 1,\n",
       " 'Speaker': 0,\n",
       " 'CalibrationCPM_0': 1615,\n",
       " 'CalibrationCPM_1': 16150,\n",
       " 'CalibrationCPM_2': 32300,\n",
       " 'SaveDataType': 1,\n",
       " 'MaxCPM': 38,\n",
       " 'Baudrate': 252,\n",
       " 'BatteryType': 0,\n",
       " 'ThresholdMode': 0,\n",
       " 'ThresholdCPM': 100,\n",
       " 'Calibration_uSv_0': 10.0,\n",
       " 'Calibration_uSv_1': 100.0,\n",
       " 'Calibration_uSv_2': 200.0,\n",
       " 'IdleTextState': 0,\n",
       " 'AlarmValue_uSv': 0.5,\n",
       " 'Threshold_uSv': 0.5}"
      ]
     },
     "execution_count": 13,
     "metadata": {},
     "output_type": "execute_result"
    }
   ],
   "source": [
    "gc.get_config()"
   ]
  },
  {
   "cell_type": "code",
   "execution_count": null,
   "id": "d93c32ad-dba2-4feb-9c3c-1e5dc9df2965",
   "metadata": {},
   "outputs": [],
   "source": []
  }
 ],
 "metadata": {
  "kernelspec": {
   "display_name": "Python 3 (ipykernel)",
   "language": "python",
   "name": "python3"
  },
  "language_info": {
   "codemirror_mode": {
    "name": "ipython",
    "version": 3
   },
   "file_extension": ".py",
   "mimetype": "text/x-python",
   "name": "python",
   "nbconvert_exporter": "python",
   "pygments_lexer": "ipython3",
   "version": "3.10.12"
  }
 },
 "nbformat": 4,
 "nbformat_minor": 5
}
